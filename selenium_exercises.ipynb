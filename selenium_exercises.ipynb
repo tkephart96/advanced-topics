{
 "cells": [
  {
   "cell_type": "markdown",
   "id": "ffd97c3c-aa76-4ae8-9926-88d159702a49",
   "metadata": {},
   "source": [
    "# Imports"
   ]
  },
  {
   "cell_type": "code",
   "execution_count": null,
   "id": "3932a449-d551-4b5c-9a95-1783ec5f5527",
   "metadata": {},
   "outputs": [],
   "source": [
    "from selenium import webdriver\n",
    "from selenium.webdriver.chrome.service import Service\n",
    "from selenium.webdriver.common.keys import Keys\n",
    "from selenium.webdriver.common.by import By\n",
    "from selenium.webdriver.common.action_chains import ActionChains\n",
    "from selenium.webdriver.support.ui import Select, WebDriverWait\n",
    "from selenium.webdriver.support import expected_conditions as EC\n",
    "\n",
    "from webdriver_manager.chrome import ChromeDriverManager\n",
    "\n",
    "import time as t\n",
    "import os\n"
   ]
  },
  {
   "cell_type": "markdown",
   "id": "8b175412-6642-442e-9068-c53136224fc6",
   "metadata": {},
   "source": [
    "## Variables"
   ]
  },
  {
   "cell_type": "code",
   "execution_count": null,
   "id": "f722b23b-3bdc-46ae-9206-e2c82beff6dd",
   "metadata": {},
   "outputs": [],
   "source": [
    "user = os.getenv(\"githubUSER\")\n",
    "pswd = os.getenv(\"githubPSWD\")\n",
    "chromeDRIVER = os.getenv('chromeDRIVER')\n",
    "\n",
    "base_url = \"https://github.com/\"\n"
   ]
  },
  {
   "cell_type": "code",
   "execution_count": null,
   "id": "2821a393-68e1-4c55-aeab-87a0a2c3c590",
   "metadata": {},
   "outputs": [],
   "source": [
    "user"
   ]
  },
  {
   "cell_type": "code",
   "execution_count": null,
   "id": "4353bb94-020d-467f-8693-4a9bcb57c96b",
   "metadata": {},
   "outputs": [],
   "source": [
    "# Create a webdriver object\n",
    "# paste path of chrome driver into executable_path in Service\n",
    "driver = webdriver.Chrome(service=Service(executable_path=chromeDRIVER))"
   ]
  },
  {
   "cell_type": "markdown",
   "id": "f2fcf967",
   "metadata": {},
   "source": [
    "# Exercises"
   ]
  },
  {
   "cell_type": "code",
   "execution_count": null,
   "id": "d80fd2d7-5aa8-48e0-b370-02180e20d7a9",
   "metadata": {},
   "outputs": [],
   "source": [
    "# Let's open up a website!\n",
    "\n",
    "driver.get(f'{base_url}login')"
   ]
  },
  {
   "cell_type": "code",
   "execution_count": null,
   "id": "5b9d2fcd-0d36-4155-b992-ffcd9f40898b",
   "metadata": {},
   "outputs": [],
   "source": [
    "# Enter username\n",
    "\n",
    "driver.find_element(By.NAME,'login').send_keys(user)"
   ]
  },
  {
   "cell_type": "code",
   "execution_count": null,
   "id": "15f0f5a3-1d99-4812-8985-edeb27a28493",
   "metadata": {},
   "outputs": [],
   "source": [
    "# Enter password\n",
    "\n",
    "driver.find_element(By.NAME,'password').send_keys(pswd)"
   ]
  },
  {
   "cell_type": "code",
   "execution_count": null,
   "id": "45b4ba93-a4c9-41f8-a7cd-19fff7eb935f",
   "metadata": {},
   "outputs": [],
   "source": [
    "# Locate and click the sign in button\n",
    "\n",
    "driver.find_element(By.NAME,'commit').click()"
   ]
  },
  {
   "cell_type": "markdown",
   "id": "d07be937",
   "metadata": {},
   "source": [
    "## 1. Make a function that will download all of the sql files listed in your `database-exercises` repo.\n",
    "\n"
   ]
  },
  {
   "cell_type": "code",
   "execution_count": null,
   "id": "6667c6a2-765e-4e9c-8e49-aca412abc44b",
   "metadata": {},
   "outputs": [],
   "source": [
    "# navigate to database-exercises repo\n",
    "\n",
    "driver.get(base_url+user+'/database-exercises')"
   ]
  },
  {
   "cell_type": "code",
   "execution_count": null,
   "id": "402ca9e1-f589-48b3-a42d-157a6d289406",
   "metadata": {},
   "outputs": [],
   "source": [
    "# //a[@class=\"js-navigation-open Link--primary\"]\n",
    "driver.find_elements(By.XPATH, '//a[@class=\"js-navigation-open Link--primary\"]')"
   ]
  },
  {
   "cell_type": "code",
   "execution_count": null,
   "id": "dbbcc18c-cb7f-40de-b2e9-3763931c09ec",
   "metadata": {},
   "outputs": [],
   "source": [
    "#select first sql file\n",
    "\n",
    "driver.find_elements(By.XPATH, '//a[@class=\"js-navigation-open Link--primary\"]')[1].click()"
   ]
  },
  {
   "cell_type": "code",
   "execution_count": null,
   "id": "97638f00-b2de-4e27-a394-4be11efc27df",
   "metadata": {},
   "outputs": [],
   "source": [
    "# download button\n",
    "\n",
    "driver.find_element(By.XPATH, '//button[@aria-label=\"Download raw content\"]')"
   ]
  },
  {
   "cell_type": "code",
   "execution_count": null,
   "id": "7763e321-d054-47f9-9864-0fae70b6da58",
   "metadata": {},
   "outputs": [],
   "source": [
    "# Check if this is the correct button by hovering over it\n",
    "dl_button = driver.find_element(By.XPATH, '//button[@aria-label=\"Download raw content\"]')\n",
    "ActionChains(driver).move_to_element(dl_button).perform()"
   ]
  },
  {
   "cell_type": "code",
   "execution_count": null,
   "id": "393e6c37-7d46-4730-bc76-43e4781d19b4",
   "metadata": {},
   "outputs": [],
   "source": [
    "# download the file\n",
    "# dl_button.click()"
   ]
  },
  {
   "cell_type": "code",
   "execution_count": null,
   "id": "e00496a3",
   "metadata": {},
   "outputs": [],
   "source": [
    "# make sure side panel is open to get next file\n",
    "try:\n",
    "    driver.find_element(By.XPATH, '//button[@data-testid=\"expand-file-tree-button\"]').click()\n",
    "except Exception:\n",
    "    print('It is already open')"
   ]
  },
  {
   "cell_type": "code",
   "execution_count": null,
   "id": "dfe8feb7",
   "metadata": {},
   "outputs": [],
   "source": [
    "# find all other files from side panel\n",
    "driver.find_elements(By.XPATH, '//li[@class=\"PRIVATE_TreeView-item\"]')"
   ]
  },
  {
   "cell_type": "code",
   "execution_count": null,
   "id": "34e7aa83",
   "metadata": {},
   "outputs": [],
   "source": [
    "# check len\n",
    "len(driver.find_elements(By.XPATH, '//li[@class=\"PRIVATE_TreeView-item\"]'))"
   ]
  },
  {
   "cell_type": "code",
   "execution_count": null,
   "id": "807c05a4",
   "metadata": {},
   "outputs": [],
   "source": [
    "# test click next file and hover on download\n",
    "driver.find_elements(By.XPATH, '//li[@class=\"PRIVATE_TreeView-item\"]')[2].click()\n",
    "dl_button = driver.find_element(By.XPATH, '//button[@aria-label=\"Download raw content\"]')\n",
    "ActionChains(driver).move_to_element(dl_button).perform()"
   ]
  },
  {
   "cell_type": "markdown",
   "id": "e964503d",
   "metadata": {},
   "source": [
    "### test function parts"
   ]
  },
  {
   "cell_type": "code",
   "execution_count": null,
   "id": "41277980",
   "metadata": {},
   "outputs": [],
   "source": [
    "def download_wait(directory:str, timeout:int, n_files:int=None):\n",
    "    \"\"\"\n",
    "    Wait for downloads to finish with a specified timeout.\n",
    "    \n",
    "    directory : The path to the folder where the files will be downloaded.\n",
    "    timeout : How many seconds to wait until timing out.\n",
    "    n_files : If provided, also wait for the expected number of files.\n",
    "    \"\"\"\n",
    "    # set defaults\n",
    "    seconds = 0\n",
    "    dl_wait = True\n",
    "    total = len(os.listdir(directory)) + n_files\n",
    "    # loop to check file existences\n",
    "    while dl_wait and seconds < timeout:\n",
    "        # sleep\n",
    "        t.sleep(1)\n",
    "        # temp false\n",
    "        dl_wait = False\n",
    "        # get list of files\n",
    "        files = os.listdir(directory)\n",
    "        if len(files) != total:\n",
    "            dl_wait = True\n",
    "        # check for unfinished downloads\n",
    "        for fname in files:\n",
    "            if fname.endswith('.crdownload'):\n",
    "                dl_wait = True\n",
    "        # add to timer\n",
    "        seconds += 1\n",
    "    # return seconds"
   ]
  },
  {
   "cell_type": "code",
   "execution_count": null,
   "id": "6c35bc59",
   "metadata": {},
   "outputs": [],
   "source": [
    "downloads_dir = os.path.expanduser(\"~/Downloads\")\n",
    "downloads_dir"
   ]
  },
  {
   "cell_type": "code",
   "execution_count": null,
   "id": "a84afc7e",
   "metadata": {},
   "outputs": [],
   "source": [
    "# maximize view to keep side panel open\n",
    "driver.maximize_window()\n",
    "# navigate to database-exercises repo\n",
    "driver.get(base_url+user+'/database-exercises')\n",
    "\n",
    "# check if first sql file is available\n",
    "ActionChains(driver).context_click(WebDriverWait(driver,50).until(EC.presence_of_element_located((By.XPATH,'//a[@class=\"js-navigation-open Link--primary\"]')))).perform()\n",
    "\n",
    "# check for sql files\n",
    "els = driver.find_elements(By.XPATH, '//a[@class=\"js-navigation-open Link--primary\"]')\n",
    "sqls = [el for el in els if el.text.endswith('.sql')]\n",
    "sqls"
   ]
  },
  {
   "cell_type": "code",
   "execution_count": null,
   "id": "272367dd",
   "metadata": {},
   "outputs": [],
   "source": [
    "#select first sql file\n",
    "sqls[0].click()\n"
   ]
  },
  {
   "cell_type": "code",
   "execution_count": null,
   "id": "a1f06276",
   "metadata": {},
   "outputs": [],
   "source": [
    "# download the file\n",
    "# dl_button = driver.find_element(By.XPATH, '//button[@aria-label=\"Download raw content\"]')\n",
    "# dl_button.click()\n",
    "ActionChains(driver).click(WebDriverWait(driver,50).until(EC.presence_of_element_located((By.XPATH,'//button[@aria-label=\"Download raw content\"]')))).perform()\n",
    "# add timer to wait for download\n",
    "download_wait(downloads_dir,10,1)"
   ]
  },
  {
   "cell_type": "code",
   "execution_count": null,
   "id": "161b8eed",
   "metadata": {},
   "outputs": [],
   "source": [
    "# make sure side panel is open to get next files\n",
    "try:\n",
    "    driver.find_element(By.XPATH, '//button[@data-testid=\"expand-file-tree-button\"]').click()\n",
    "    # find all other files from side panel\n",
    "    side_panel = driver.find_elements(By.XPATH, '//li[@class=\"PRIVATE_TreeView-item\"]')\n",
    "    sqls_panel = [el for el in side_panel if el.text.endswith('.sql')]\n",
    "except Exception:\n",
    "    # find all other files from side panel\n",
    "    side_panel = driver.find_elements(By.XPATH, '//li[@class=\"PRIVATE_TreeView-item\"]')\n",
    "    sqls_panel = [el for el in side_panel if el.text.endswith('.sql')]\n",
    "for i in range(1,len(sqls_panel)):\n",
    "    # check if next sql file is available\n",
    "    ActionChains(driver).context_click(WebDriverWait(driver,50).until(EC.presence_of_element_located((By.XPATH,'//li[@class=\"PRIVATE_TreeView-item\"]')))).perform()\n",
    "    # click next file and download\n",
    "    sqls_panel[i].click()\n",
    "    # download the file\n",
    "    # dl_button.click()\n",
    "    ActionChains(driver).click(WebDriverWait(driver,50).until(EC.presence_of_element_located((By.XPATH,'//button[@aria-label=\"Download raw content\"]')))).perform()\n",
    "    # add timer to wait for download\n",
    "    download_wait(downloads_dir,10,1)\n"
   ]
  },
  {
   "cell_type": "code",
   "execution_count": null,
   "id": "be1d670d",
   "metadata": {},
   "outputs": [],
   "source": [
    "def open_chrome(chromeDRIVER):\n",
    "    if chromeDRIVER is None:\n",
    "        return webdriver.Chrome(service=Service())\n",
    "    return webdriver.Chrome(service=Service(executable_path=chromeDRIVER))\n"
   ]
  },
  {
   "cell_type": "code",
   "execution_count": null,
   "id": "e93b60a4",
   "metadata": {},
   "outputs": [],
   "source": [
    "def download_wait(directory:str, timeout:int, n_files=None):\n",
    "    \"\"\"\n",
    "    Wait for downloads to finish with a specified timeout.\n",
    "    \n",
    "    directory : The path to the folder where the files will be downloaded.\n",
    "    timeout : How many seconds to wait until timing out.\n",
    "    n_files : If provided, also wait for the expected number of files.\n",
    "    \"\"\"\n",
    "    # set defaults\n",
    "    seconds = 0\n",
    "    dl_wait = True\n",
    "    total = len(os.listdir(directory)) + n_files\n",
    "    # loop to check file existences\n",
    "    while dl_wait and seconds < timeout:\n",
    "        # sleep\n",
    "        t.sleep(1)\n",
    "        # temp false\n",
    "        dl_wait = False\n",
    "        # get list of files\n",
    "        files = os.listdir(directory)\n",
    "        if len(files) != total:\n",
    "            dl_wait = True\n",
    "        # check for unfinished downloads\n",
    "        for fname in files:\n",
    "            if fname.endswith('.crdownload'):\n",
    "                dl_wait = True\n",
    "        # add to timer\n",
    "        seconds += 1\n",
    "    # return seconds"
   ]
  },
  {
   "cell_type": "code",
   "execution_count": null,
   "id": "bd43ec79",
   "metadata": {},
   "outputs": [],
   "source": [
    "def get_sql_files():\n",
    "    # open chrome\n",
    "    driver = open_chrome(chromeDRIVER)\n",
    "    # sign in to github\n",
    "    driver.get(f'{base_url}login')\n",
    "    # Enter username\n",
    "    driver.find_element(By.NAME,'login').send_keys(user)\n",
    "    # Enter password\n",
    "    driver.find_element(By.NAME,'password').send_keys(pswd)\n",
    "    # Locate and click the sign in button\n",
    "    driver.find_element(By.NAME,'commit').click()\n",
    "    # maximize view to keep side panel open\n",
    "    driver.maximize_window()\n",
    "    # navigate to database-exercises repo\n",
    "    driver.get(base_url+user+'/database-exercises')\n",
    "    # check if first sql file is available\n",
    "    ActionChains(driver).context_click(WebDriverWait(driver,50).until(EC.presence_of_element_located((By.XPATH,'//a[@class=\"js-navigation-open Link--primary\"]')))).perform()\n",
    "    # get sql files list\n",
    "    els = driver.find_elements(By.XPATH, '//a[@class=\"js-navigation-open Link--primary\"]')\n",
    "    sqls = [el for el in els if el.text.endswith('.sql')]\n",
    "    next_and_download(sqls, 0)\n",
    "    # make sure side panel is open to get next files\n",
    "    try:\n",
    "        driver.find_element(By.XPATH, '//button[@data-testid=\"expand-file-tree-button\"]').click()\n",
    "        # find all other files from side panel\n",
    "        side_panel = driver.find_elements(By.XPATH, '//li[@class=\"PRIVATE_TreeView-item\"]')\n",
    "        sqls_panel = [el for el in side_panel if el.text.endswith('.sql')]\n",
    "    except Exception:\n",
    "        # find all other files from side panel\n",
    "        side_panel = driver.find_elements(By.XPATH, '//li[@class=\"PRIVATE_TreeView-item\"]')\n",
    "        sqls_panel = [el for el in side_panel if el.text.endswith('.sql')]\n",
    "    for i in range(1,len(sqls_panel)):\n",
    "        # check if next sql file is available\n",
    "        ActionChains(driver).context_click(WebDriverWait(driver,50).until(EC.presence_of_element_located((By.XPATH,'//li[@class=\"PRIVATE_TreeView-item\"]')))).perform()\n",
    "        next_and_download(sqls_panel, i)\n",
    "    driver.close()\n",
    "\n",
    "def next_and_download(ele_list, i):\n",
    "    # click next file and download\n",
    "    ele_list[i].click()\n",
    "    # download the file\n",
    "    # dl_button.click()\n",
    "    ActionChains(driver).click(WebDriverWait(driver,50).until(EC.presence_of_element_located((By.XPATH,'//button[@aria-label=\"Download raw content\"]')))).perform()\n",
    "    # add timer to wait for download\n",
    "    download_wait(downloads_dir,10,1)\n"
   ]
  },
  {
   "cell_type": "code",
   "execution_count": null,
   "id": "d1887f5f",
   "metadata": {},
   "outputs": [],
   "source": [
    "driver.quit()"
   ]
  },
  {
   "cell_type": "code",
   "execution_count": null,
   "id": "99bdb183",
   "metadata": {},
   "outputs": [],
   "source": [
    "# test\n",
    "get_sql_files()"
   ]
  },
  {
   "cell_type": "markdown",
   "id": "9323eb44",
   "metadata": {},
   "source": [
    "## 2. Pick one more repo to download all ipynb's (**only**) from and turn that into a second function. \n",
    "\n"
   ]
  },
  {
   "cell_type": "code",
   "execution_count": null,
   "id": "e476672a",
   "metadata": {},
   "outputs": [],
   "source": [
    "# maximize view to keep side panel open\n",
    "driver.maximize_window()\n"
   ]
  },
  {
   "cell_type": "code",
   "execution_count": null,
   "id": "10e160b3",
   "metadata": {},
   "outputs": [],
   "source": [
    "# navigate to database-exercises repo\n",
    "driver.get(base_url+user+'/numpy-pandas-visualization-exercises')\n"
   ]
  },
  {
   "cell_type": "code",
   "execution_count": null,
   "id": "a5226977",
   "metadata": {},
   "outputs": [],
   "source": [
    "# check if ipynb first file is available\n",
    "\n",
    "ActionChains(driver).context_click(WebDriverWait(driver,50).until(EC.presence_of_element_located((By.XPATH,'//a[@class=\"js-navigation-open Link--primary\"]')))).perform()\n"
   ]
  },
  {
   "cell_type": "code",
   "execution_count": null,
   "id": "d66564ef",
   "metadata": {},
   "outputs": [],
   "source": [
    "#select first sql file\n",
    "driver.find_elements(By.XPATH, '//a[@class=\"js-navigation-open Link--primary\"]')[1].click()\n"
   ]
  },
  {
   "cell_type": "code",
   "execution_count": null,
   "id": "d6c27069",
   "metadata": {},
   "outputs": [],
   "source": [
    "# download the file\n",
    "# dl_button = driver.find_element(By.XPATH, '//button[@aria-label=\"Download raw content\"]')\n",
    "# dl_button.click()\n",
    "ActionChains(driver).click(WebDriverWait(driver,50).until(EC.presence_of_element_located((By.XPATH,'//button[@aria-label=\"Download raw content\"]')))).perform()\n"
   ]
  },
  {
   "cell_type": "code",
   "execution_count": null,
   "id": "497bcbca",
   "metadata": {},
   "outputs": [],
   "source": [
    "# make sure side panel is open to get next files\n",
    "try:\n",
    "    driver.find_element(By.XPATH, '//button[@data-testid=\"expand-file-tree-button\"]').click()\n",
    "except Exception:\n",
    "    # find all other files from side panel\n",
    "    side_panel = driver.find_elements(By.XPATH, '//li[@class=\"PRIVATE_TreeView-item\"]')\n",
    "    for i in range(2,len(side_panel)):\n",
    "        # check if next sql file is available\n",
    "        ActionChains(driver).context_click(WebDriverWait(driver,50).until(EC.presence_of_element_located((By.XPATH,'//li[@class=\"PRIVATE_TreeView-item\"]')))).perform()\n",
    "        # click next file and download\n",
    "        side_panel[i].click()\n",
    "        # download the file\n",
    "        # dl_button.click()\n",
    "        ActionChains(driver).click(WebDriverWait(driver,50).until(EC.presence_of_element_located((By.XPATH,'//button[@aria-label=\"Download raw content\"]')))).perform()"
   ]
  },
  {
   "cell_type": "code",
   "execution_count": null,
   "id": "d1052540",
   "metadata": {},
   "outputs": [],
   "source": []
  },
  {
   "cell_type": "code",
   "execution_count": null,
   "id": "cf846dbb",
   "metadata": {},
   "outputs": [],
   "source": []
  },
  {
   "cell_type": "code",
   "execution_count": null,
   "id": "673b8e2d",
   "metadata": {},
   "outputs": [],
   "source": []
  },
  {
   "cell_type": "code",
   "execution_count": null,
   "id": "a3a6836c",
   "metadata": {},
   "outputs": [],
   "source": []
  },
  {
   "cell_type": "code",
   "execution_count": null,
   "id": "3404455e",
   "metadata": {},
   "outputs": [],
   "source": []
  },
  {
   "cell_type": "markdown",
   "id": "69bedde8",
   "metadata": {},
   "source": [
    "**BONUS**: turn this functions into a py script you can run directly in terminal."
   ]
  }
 ],
 "metadata": {
  "kernelspec": {
   "display_name": "Python 3 (ipykernel)",
   "language": "python",
   "name": "python3"
  },
  "language_info": {
   "codemirror_mode": {
    "name": "ipython",
    "version": 3
   },
   "file_extension": ".py",
   "mimetype": "text/x-python",
   "name": "python",
   "nbconvert_exporter": "python",
   "pygments_lexer": "ipython3",
   "version": "3.9.16"
  }
 },
 "nbformat": 4,
 "nbformat_minor": 5
}
